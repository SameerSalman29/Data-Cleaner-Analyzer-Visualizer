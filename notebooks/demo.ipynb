{
 "cells": [
  {
   "cell_type": "markdown",
   "metadata": {},
   "source": [
    "# DCAV Demo Notebook\n",
    "Demonstrates Data-Cleaner-Analyzer-Visualizer functionality"
   ]
  },
  {
   "cell_type": "code",
   "metadata": {},
   "source": [
    "import pandas as pd\n",
    "from src.clean import clean_data\n",
    "from src.analyze import analyze_data\n",
    "from src.visualize import visualize_data\n",
    "from src.model import train_model\n",
    "\n",
    "# Load expanded messy data\n",
    "df = pd.read_csv('../data/sample_messy.csv')\n",
    "df.head()"
   ],
   "execution_count": 1,
   "outputs": []
  },
  {
   "cell_type": "code",
   "metadata": {},
   "source": [
    "# Clean data\n",
    "df_clean = clean_data(df)\n",
    "df_clean.head()"
   ],
   "execution_count": 2,
   "outputs": []
  },
  {
   "cell_type": "code",
   "metadata": {},
   "source": [
    "# Analyze data\n",
    "report = analyze_data(df_clean)\n",
    "print(report[:1000])  # show first 1000 characters"
   ],
   "execution_count": 3,
   "outputs": []
  },
  {
   "cell_type": "code",
   "metadata": {},
   "source": [
    "# Visualize data\n",
    "visualize_data(df_clean)"
   ],
   "execution_count": 4,
   "outputs": []
  },
  {
   "cell_type": "code",
   "metadata": {},
   "source": [
    "# Optional: Train model\n",
    "metrics = train_model(df_clean, target='Score')\n",
    "print('Metrics:', metrics)"
   ],
   "execution_count": 5,
   "outputs": []
  }
 ],
 "metadata": {
  "kernelspec": {
   "display_name": "Python 3",
   "language": "python",
   "name": "python3"
  },
  "language_info": {
   "name": "python",
   "version": "3.11"
  }
 },
 "nbformat": 4,
 "nbformat_minor": 5
}
