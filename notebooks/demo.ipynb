# Demo notebook for DCAV
import pandas as pd
from src.clean import clean_data
from src.analyze import analyze_data
from src.visualize import visualize_data
from src.model import train_model

# Load sample messy data
df = pd.read_csv('../data/sample_messy.csv')

# Clean data
df_clean = clean_data(df)
df_clean.head()

# Analyze data
report = analyze_data(df_clean)
print(report[:1000])  # show first 1000 chars

# Visualize data
visualize_data(df_clean)

# Train model (optional, target: 'Score')
metrics = train_model(df_clean, target='Score')
print("Metrics:", metrics)
